{
 "cells": [
  {
   "cell_type": "markdown",
   "id": "9bf0e1de",
   "metadata": {},
   "source": [
    "<div style='background-color: orange'>\n",
    "<a id='TableOfContents'></a>\n",
    "    <b><u><i><h1 style='text-align: center'>\n",
    "        Table of Contents\n",
    "    </h1></i></u></b>\n",
    "<li><a href='#imports'>Imports</a></li>\n",
    "<li><a href='#wrangle'>Wrangle</a></li>\n",
    "<li><a href='#explore'>Exploration</a></li>\n",
    "<li><a href='#model'>Modeling</a></li>\n",
    "<li><a href='#conclusion'>Conclusion</a></li>"
   ]
  },
  {
   "cell_type": "markdown",
   "id": "6635d36b",
   "metadata": {},
   "source": [
    "<div style='background-color: orange'>\n",
    "<a id='imports'></a>\n",
    "    <b><u><i><h1 style='text-align: center'>\n",
    "        Imports\n",
    "    </h1></i></u></b>\n",
    "<li><a href='#TableOfContents'>Table of Contents</a></li>"
   ]
  },
  {
   "cell_type": "code",
   "execution_count": 1,
   "id": "b4f15f56",
   "metadata": {},
   "outputs": [],
   "source": [
    "# Import 'final.py' to expedite and maintain cleanliness\n",
    "# of this file...\n",
    "import final as f"
   ]
  },
  {
   "cell_type": "markdown",
   "id": "b517a47a",
   "metadata": {},
   "source": [
    "<div style='background-color: orange'>\n",
    "<a id='wrangle'></a>\n",
    "    <b><u><i><h1 style='text-align: center'>\n",
    "        Wrangle\n",
    "    </h1></i></u></b>\n",
    "<li><a href='#TableOfContents'>Table of Contents</a></li>"
   ]
  },
  {
   "cell_type": "markdown",
   "id": "7c9b1bdb",
   "metadata": {},
   "source": [
    "<h3><b>Acquire</b></h3>"
   ]
  },
  {
   "cell_type": "markdown",
   "id": "b65a7df2",
   "metadata": {},
   "source": [
    "Obtain both the 'red' and 'white' wine datasets from <a href='https://data.world/food/wine-quality'>Data.World Wine Quality Dataset</a>"
   ]
  },
  {
   "cell_type": "code",
   "execution_count": 2,
   "id": "391123b6",
   "metadata": {},
   "outputs": [
    {
     "data": {
      "text/plain": [
       "((1599, 12), (4898, 12))"
      ]
     },
     "execution_count": 2,
     "metadata": {},
     "output_type": "execute_result"
    }
   ],
   "source": [
    "red, white = f.acquire()\n",
    "red.shape, white.shape"
   ]
  },
  {
   "cell_type": "markdown",
   "id": "a5dbf1d8",
   "metadata": {},
   "source": [
    "- Vanilla 'red' dataset shape\n",
    "    - Rows: 1599\n",
    "    - Columns: 12\n",
    "- Vanilla 'white' dataset shape\n",
    "    - Rows: 4898\n",
    "    - Columns: 12"
   ]
  },
  {
   "cell_type": "markdown",
   "id": "a30fdf29",
   "metadata": {},
   "source": [
    "---"
   ]
  },
  {
   "cell_type": "markdown",
   "id": "a17e2843",
   "metadata": {},
   "source": [
    "<h3><b>Prepare</b></h3>"
   ]
  },
  {
   "cell_type": "markdown",
   "id": "2d83b6e4",
   "metadata": {},
   "source": [
    "- Similarity between datasets\n",
    "    - Number of columns\n",
    "    - Column names\n",
    "    - Column dtypes\n",
    "    - Column value inputs\n",
    "    \n",
    "<b>THEREFORE:</b> Join both 'red' and 'white' wine on a row-to-row basis"
   ]
  },
  {
   "cell_type": "code",
   "execution_count": 3,
   "id": "6ccc6fe2",
   "metadata": {},
   "outputs": [
    {
     "data": {
      "text/plain": [
       "(6497, 13)"
      ]
     },
     "execution_count": 3,
     "metadata": {},
     "output_type": "execute_result"
    }
   ],
   "source": [
    "# From the 'final.py' file...\n",
    "# Get the prepared dataframe of both wine datasets\n",
    "wines = f.prepare()\n",
    "wines.shape"
   ]
  },
  {
   "cell_type": "markdown",
   "id": "58a44925",
   "metadata": {},
   "source": [
    "- Prepared 'wine' dataset shape\n",
    "    - Rows: 6497\n",
    "    - Columns: 13"
   ]
  },
  {
   "cell_type": "markdown",
   "id": "153baecd",
   "metadata": {},
   "source": [
    "---"
   ]
  },
  {
   "cell_type": "markdown",
   "id": "634fd477",
   "metadata": {},
   "source": [
    "<h3><b>Nulls</b></h3>"
   ]
  },
  {
   "cell_type": "markdown",
   "id": "5258f5d3",
   "metadata": {},
   "source": [
    "- Absence of null values in entire dataframe"
   ]
  },
  {
   "cell_type": "markdown",
   "id": "654736eb",
   "metadata": {},
   "source": [
    "---"
   ]
  },
  {
   "cell_type": "markdown",
   "id": "3bc3eb3b",
   "metadata": {},
   "source": [
    "<h3><b>Split</b></h3>"
   ]
  },
  {
   "cell_type": "markdown",
   "id": "a789cd21",
   "metadata": {},
   "source": [
    "- Train\n",
    "    - 70%\n",
    "- Validate\n",
    "    - 20%\n",
    "- Test\n",
    "    - 10%"
   ]
  },
  {
   "cell_type": "markdown",
   "id": "4ef21d1b",
   "metadata": {},
   "source": [
    "<div style='background-color: orange'>\n",
    "<a id='explore'></a>\n",
    "    <b><u><i><h1 style='text-align: center'>\n",
    "        Exploration\n",
    "    </h1></i></u></b>\n",
    "<li><a href='#TableOfContents'>Table of Contents</a></li>\n",
    "    <li><a href='#visuals'>Key Visuals</a></li>\n",
    "    <li><a href='#cluster'>Clusters</a></li>\n",
    "    <li><a href='#exploresummary'>Summary</a></li>"
   ]
  },
  {
   "cell_type": "markdown",
   "id": "c924a0a2",
   "metadata": {},
   "source": [
    "<a id='visuals'></a>\n",
    "<h3><b>Key Visuals</b></h3>\n",
    "<li><a href='#explore'>Exploration Top</a></li>"
   ]
  },
  {
   "cell_type": "markdown",
   "id": "34be45b5",
   "metadata": {},
   "source": [
    "<b>Question 1:</b> Does lower sulphates lead to better wine quality?\n",
    "\n",
    "<b>H$_0$:</b> Lower sulphates does not have a direct impact on wine quality.\n",
    "\n",
    "<b>H$_a$:</b> Lower sulphates does have a direct impact on wine quality."
   ]
  },
  {
   "cell_type": "code",
   "execution_count": 4,
   "id": "0999fb3f",
   "metadata": {},
   "outputs": [
    {
     "data": {
      "image/png": "[encoded data removed]",
      "text/plain": [
       "<Figure size 640x480 with 1 Axes>"
      ]
     },
     "metadata": {},
     "output_type": "display_data"
    }
   ],
   "source": [
    "# From the 'final.py' file...\n",
    "# Get the regplot of sulphates vs. quality\n",
    "f.visual1()"
   ]
  },
  {
   "cell_type": "code",
   "execution_count": 5,
   "id": "b3d09640",
   "metadata": {},
   "outputs": [
    {
     "name": "stdout",
     "output_type": "stream",
     "text": [
      "\u001b[32m========== REJECT NULL HYPOTHESIS! ==========\n",
      "\u001b[35mFeatures:\u001b[0m Sulphates vs. Quality\n",
      "\u001b[35mCorrelation:\u001b[0m 0.0298\n",
      "\u001b[35mP-Value:\u001b[0m 0.0162\n"
     ]
    }
   ],
   "source": [
    "# From the 'final.py' file...\n",
    "# Get the statistics of sulphates vs. quality\n",
    "f.stat1()"
   ]
  },
  {
   "cell_type": "markdown",
   "id": "63c95d13",
   "metadata": {},
   "source": [
    "<b>Q1 Answer:</b> Lower sulphates does appear to impact the wine quality."
   ]
  },
  {
   "cell_type": "markdown",
   "id": "d90c8f58",
   "metadata": {},
   "source": [
    "---"
   ]
  },
  {
   "cell_type": "markdown",
   "id": "3a562ff5",
   "metadata": {},
   "source": [
    "<b>Question 2:</b> Does higher alcohol lead to better wine quality?\n",
    "\n",
    "<b>H$_0$:</b> Higher alcohol does not have a direct impact on wine quality.\n",
    "\n",
    "<b>H$_a$:</b> Higher alcohol does have a direct impact on wine quality."
   ]
  },
  {
   "cell_type": "code",
   "execution_count": 6,
   "id": "734d0264",
   "metadata": {},
   "outputs": [
    {
     "data": {
      "image/png": "[encoded data removed]",
      "text/plain": [
       "<Figure size 640x480 with 1 Axes>"
      ]
     },
     "metadata": {},
     "output_type": "display_data"
    }
   ],
   "source": [
    "# From the 'final.py' file...\n",
    "# Get the regplot of alcohol vs. quality\n",
    "f.visual2()"
   ]
  },
  {
   "cell_type": "code",
   "execution_count": 7,
   "id": "c053c142",
   "metadata": {},
   "outputs": [
    {
     "name": "stdout",
     "output_type": "stream",
     "text": [
      "\u001b[32m========== REJECT NULL HYPOTHESIS! ==========\n",
      "\u001b[35mFeatures:\u001b[0m Alcohol vs. Quality\n",
      "\u001b[35mCorrelation:\u001b[0m 0.4469\n",
      "\u001b[35mP-Value:\u001b[0m 0.0000\n"
     ]
    }
   ],
   "source": [
    "# From the 'final.py' file...\n",
    "# Get the statistics of alcohol vs. quality\n",
    "f.stat2()"
   ]
  },
  {
   "cell_type": "markdown",
   "id": "b286c4b0",
   "metadata": {},
   "source": [
    "<b>Q2 Answer:</b> Higher alcohol does impact the wine quality."
   ]
  },
  {
   "cell_type": "markdown",
   "id": "c6f2f752",
   "metadata": {},
   "source": [
    "---"
   ]
  },
  {
   "cell_type": "markdown",
   "id": "70ab3c6f",
   "metadata": {},
   "source": [
    "<b>Question 3:</b> Does higher residual sugars lead to better wine quality?\n",
    "\n",
    "<b>H$_0$:</b> Higher residual sugars does not have a direct impact on wine quality.\n",
    "\n",
    "<b>H$_a$:</b> Higher residual sugars does have a direct impact on wine quality."
   ]
  },
  {
   "cell_type": "code",
   "execution_count": 8,
   "id": "33c6ef81",
   "metadata": {},
   "outputs": [
    {
     "data": {
      "image/png": "[encoded data removed]",
      "text/plain": [
       "<Figure size 640x480 with 1 Axes>"
      ]
     },
     "metadata": {},
     "output_type": "display_data"
    }
   ],
   "source": [
    "# From the 'final.py' file...\n",
    "# Get the regplot of residual sugars vs. quality\n",
    "f.visual3()"
   ]
  },
  {
   "cell_type": "code",
   "execution_count": 9,
   "id": "46dc3e3e",
   "metadata": {},
   "outputs": [
    {
     "name": "stdout",
     "output_type": "stream",
     "text": [
      "\u001b[31m========== ACCEPT NULL HYPOTHESIS! ==========\n",
      "\u001b[35mFeatures:\u001b[0m Residual Sugar vs. Quality\n",
      "\u001b[35mCorrelation:\u001b[0m -0.0169\n",
      "\u001b[35mP-Value:\u001b[0m 0.1734\n"
     ]
    }
   ],
   "source": [
    "# From the 'final.py' file...\n",
    "# Get the statistics of residual sugars vs. quality\n",
    "f.stat3()"
   ]
  },
  {
   "cell_type": "markdown",
   "id": "475ba400",
   "metadata": {},
   "source": [
    "<b>Q3 Answer:</b> Higher residual sugars does not impact the wine quality."
   ]
  },
  {
   "cell_type": "markdown",
   "id": "d85f6534",
   "metadata": {},
   "source": [
    "---"
   ]
  },
  {
   "cell_type": "markdown",
   "id": "47858c9c",
   "metadata": {},
   "source": [
    "<b>Question 4:</b> Does lower volatile acidity lead to better wine quality?\n",
    "\n",
    "<b>H$_0$:</b> Lower volatile acidity does not have a direct impact on wine quality.\n",
    "\n",
    "<b>H$_a$:</b> Lower volatile acidity does have a direct impact on wine quality."
   ]
  },
  {
   "cell_type": "code",
   "execution_count": 10,
   "id": "70e54f24",
   "metadata": {},
   "outputs": [
    {
     "data": {
      "image/png": "[encoded data removed]",
      "text/plain": [
       "<Figure size 640x480 with 1 Axes>"
      ]
     },
     "metadata": {},
     "output_type": "display_data"
    }
   ],
   "source": [
    "# From the 'final.py' file...\n",
    "# Get the regplot of volatile acidity vs. quality\n",
    "f.visual4()"
   ]
  },
  {
   "cell_type": "code",
   "execution_count": 11,
   "id": "d616d274",
   "metadata": {},
   "outputs": [
    {
     "name": "stdout",
     "output_type": "stream",
     "text": [
      "\u001b[32m========== REJECT NULL HYPOTHESIS! ==========\n",
      "\u001b[35mFeatures:\u001b[0m Volatile Acidity vs. Quality\n",
      "\u001b[35mCorrelation:\u001b[0m -0.2578\n",
      "\u001b[35mP-Value:\u001b[0m 0.0000\n"
     ]
    }
   ],
   "source": [
    "# From the 'final.py' file...\n",
    "# Get the statistics of volatile acidity vs. quality\n",
    "f.stat4()"
   ]
  },
  {
   "cell_type": "markdown",
   "id": "cb4126e4",
   "metadata": {},
   "source": [
    "<b>Q4 Answer:</b> Lower volatile acidity does impact the wine quality."
   ]
  },
  {
   "cell_type": "markdown",
   "id": "c20a60df",
   "metadata": {},
   "source": [
    "---"
   ]
  },
  {
   "cell_type": "markdown",
   "id": "85a3e4ec",
   "metadata": {},
   "source": [
    "<a id='cluster'></a>\n",
    "<h3><b>Clusters</b></h3>\n",
    "<li><a href='#explore'>Exploration Top</a></li>"
   ]
  },
  {
   "cell_type": "markdown",
   "id": "1b4d51d3",
   "metadata": {},
   "source": [
    "<h5 style='text-align: center'>\n",
    "    <b><u><i>\n",
    "        Flavor Cluster\n",
    "    </i></u></b></h5>\n",
    "    \n",
    "- <b>Features For Cluster:</b>\n",
    "    - 'fixed acidity'\n",
    "    - 'volatile acidity'\n",
    "    - 'citric acid'\n",
    "    - 'residual sugar'\n",
    "    - 'chlorides'\n",
    "    - 'free sulfur dioxide'\n",
    "    - 'total sulfur dioxide'\n",
    "    - 'density'\n",
    "    - 'pH'\n",
    "    - 'sulphates'\n",
    "    - 'alcohol'\n",
    "\n",
    "- <b>Reasoning For Cluster:</b>\n",
    "    - Create cluster of features that affect the wine's flavor in order to determine a balance to help predict a wine's quality."
   ]
  },
  {
   "cell_type": "markdown",
   "id": "7ea0273d",
   "metadata": {},
   "source": [
    "---"
   ]
  },
  {
   "cell_type": "markdown",
   "id": "5ac48b2d",
   "metadata": {},
   "source": [
    "<h5 style='text-align: center'>\n",
    "    <b><u><i>\n",
    "        Estimated Wine Balance\n",
    "    </i></u></b></h5>\n",
    "\n",
    "- <b>Methodology:</b>\n",
    "    - Using clusters of the 8 characteristics that define a wine's quality, generate the mean score of all the clusters combined in order to artificially define a wine's balance of characteristics."
   ]
  },
  {
   "cell_type": "code",
   "execution_count": 12,
   "id": "3c67b295",
   "metadata": {},
   "outputs": [
    {
     "data": {
      "image/png": "[encoded data removed]",
      "text/plain": [
       "<Figure size 640x480 with 1 Axes>"
      ]
     },
     "metadata": {},
     "output_type": "display_data"
    }
   ],
   "source": [
    "# From the 'final.py' file...\n",
    "# Visualize the scatterplot of the wine's perceived\n",
    "# balance and the wine quality\n",
    "f.visual5()"
   ]
  },
  {
   "cell_type": "markdown",
   "id": "c98d3334",
   "metadata": {},
   "source": [
    "---"
   ]
  },
  {
   "cell_type": "markdown",
   "id": "3d204400",
   "metadata": {},
   "source": [
    "<h5 style='text-align: center'>\n",
    "    <b><u><i>\n",
    "        Structure Cluster\n",
    "    </i></u></b></h5>\n",
    "\n",
    "- <b>Features For Cluster:</b>\n",
    "    - 'total sulfur dioxide'\n",
    "    - 'pH'\n",
    "    - 'alcohol'\n",
    "    \n",
    "- <b>Reasoning For Cluster:</b>\n",
    "    - Create cluster of features that affect the wine's structure in order to determine a balance to help predict a wine's quality."
   ]
  },
  {
   "cell_type": "markdown",
   "id": "62b334dd",
   "metadata": {},
   "source": [
    "---"
   ]
  },
  {
   "cell_type": "markdown",
   "id": "b8242f5a",
   "metadata": {},
   "source": [
    "<a id='exploresummary'></a>\n",
    "<h3><b>Summary</b></h3>\n",
    "<li><a href='#explore'>Exploration Top</a></li>"
   ]
  },
  {
   "cell_type": "markdown",
   "id": "a481705a",
   "metadata": {},
   "source": [
    "No one feature directly seems to impact the quality of the wine and attempting to create clusters on the current data doesn't tend to output anything meaningful;however, with domain knowledge and further analysis, it's the balance of all the features that dictate the wine's quality."
   ]
  },
  {
   "cell_type": "markdown",
   "id": "6e1c7641",
   "metadata": {},
   "source": [
    "<div style='background-color: orange'>\n",
    "<a id='model'></a>\n",
    "    <b><u><i><h1 style='text-align: center'>\n",
    "        Modeling\n",
    "    </h1></i></u></b>\n",
    "<li><a href='#TableOfContents'>Table of Contents</a></li>\n",
    "<li><a href='#baseline'>Baseline</a></li>\n",
    "<li><a href='#modeltable'>Models Table</a></li>\n",
    "<li><a href='#bestmodel'>Best Model</a></li>"
   ]
  },
  {
   "cell_type": "markdown",
   "id": "5e69a6d0",
   "metadata": {},
   "source": [
    "<a id='baseline'></a>\n",
    "<h3><b>Baseline</b></h3>\n",
    "<li><a href='#model'>Modeling Top</a></li>"
   ]
  },
  {
   "cell_type": "code",
   "execution_count": 13,
   "id": "64cb4058",
   "metadata": {},
   "outputs": [
    {
     "data": {
      "text/plain": [
       "0.437"
      ]
     },
     "execution_count": 13,
     "metadata": {},
     "output_type": "execute_result"
    }
   ],
   "source": [
    "# From the 'final.py' file...\n",
    "# Obtain the baseline score of quality via mode\n",
    "f.baseline()"
   ]
  },
  {
   "cell_type": "markdown",
   "id": "3012b3f5",
   "metadata": {},
   "source": [
    "---"
   ]
  },
  {
   "cell_type": "markdown",
   "id": "0c265b70",
   "metadata": {},
   "source": [
    "<a id='modeltable'></a>\n",
    "<h3><b>Models Table</b></h3>\n",
    "<li><a href='#model'>Modeling Top</a></li>"
   ]
  },
  {
   "cell_type": "code",
   "execution_count": 14,
   "id": "01d79150",
   "metadata": {},
   "outputs": [
    {
     "data": {
      "text/html": [
       "<div>\n",
       "<style scoped>\n",
       "    .dataframe tbody tr th:only-of-type {\n",
       "        vertical-align: middle;\n",
       "    }\n",
       "\n",
       "    .dataframe tbody tr th {\n",
       "        vertical-align: top;\n",
       "    }\n",
       "\n",
       "    .dataframe thead th {\n",
       "        text-align: right;\n",
       "    }\n",
       "</style>\n",
       "<table border=\"1\" class=\"dataframe\">\n",
       "  <thead>\n",
       "    <tr style=\"text-align: right;\">\n",
       "      <th></th>\n",
       "      <th>type</th>\n",
       "      <th>hyperparameters</th>\n",
       "      <th>clusters</th>\n",
       "      <th>train_accuracy</th>\n",
       "      <th>validate_accuracy</th>\n",
       "      <th>diff_accuracy</th>\n",
       "    </tr>\n",
       "  </thead>\n",
       "  <tbody>\n",
       "    <tr>\n",
       "      <th>0</th>\n",
       "      <td>baseline</td>\n",
       "      <td>None</td>\n",
       "      <td>None</td>\n",
       "      <td>0.44</td>\n",
       "      <td>0.44</td>\n",
       "      <td>0.00</td>\n",
       "    </tr>\n",
       "    <tr>\n",
       "      <th>1</th>\n",
       "      <td>Random Forest Classifier1</td>\n",
       "      <td>depth=3, ccpalpha=0.0015</td>\n",
       "      <td>None</td>\n",
       "      <td>0.55</td>\n",
       "      <td>0.54</td>\n",
       "      <td>-0.01</td>\n",
       "    </tr>\n",
       "    <tr>\n",
       "      <th>2</th>\n",
       "      <td>Random Forest Classifier2</td>\n",
       "      <td>depth=5</td>\n",
       "      <td>Yes</td>\n",
       "      <td>0.52</td>\n",
       "      <td>0.40</td>\n",
       "      <td>-0.12</td>\n",
       "    </tr>\n",
       "    <tr>\n",
       "      <th>3</th>\n",
       "      <td>Random Forest Classifier3</td>\n",
       "      <td>depth=5, ccpalpha=0.0007</td>\n",
       "      <td>Yes</td>\n",
       "      <td>0.56</td>\n",
       "      <td>0.54</td>\n",
       "      <td>-0.02</td>\n",
       "    </tr>\n",
       "    <tr>\n",
       "      <th>4</th>\n",
       "      <td>Random Forest Classifier4</td>\n",
       "      <td>n_estimators=100</td>\n",
       "      <td>None</td>\n",
       "      <td>1.00</td>\n",
       "      <td>0.88</td>\n",
       "      <td>-0.12</td>\n",
       "    </tr>\n",
       "  </tbody>\n",
       "</table>\n",
       "</div>"
      ],
      "text/plain": [
       "                        type           hyperparameters clusters  \\\n",
       "0                   baseline                      None     None   \n",
       "1  Random Forest Classifier1  depth=3, ccpalpha=0.0015     None   \n",
       "2  Random Forest Classifier2                   depth=5      Yes   \n",
       "3  Random Forest Classifier3  depth=5, ccpalpha=0.0007      Yes   \n",
       "4  Random Forest Classifier4          n_estimators=100     None   \n",
       "\n",
       "   train_accuracy  validate_accuracy  diff_accuracy  \n",
       "0            0.44               0.44           0.00  \n",
       "1            0.55               0.54          -0.01  \n",
       "2            0.52               0.40          -0.12  \n",
       "3            0.56               0.54          -0.02  \n",
       "4            1.00               0.88          -0.12  "
      ]
     },
     "execution_count": 14,
     "metadata": {},
     "output_type": "execute_result"
    }
   ],
   "source": [
    "# From the 'final.py' file...\n",
    "# Get the scores of the baseline and 4 unique models\n",
    "f.models()"
   ]
  },
  {
   "cell_type": "markdown",
   "id": "f3ccf259",
   "metadata": {},
   "source": [
    "Accuracy score is the key metric here:\n",
    "\n",
    "Wanting to find the model that can best predict the quality scores on a consistent basis when compared with the actual quality values."
   ]
  },
  {
   "cell_type": "markdown",
   "id": "b8348306",
   "metadata": {},
   "source": [
    "---"
   ]
  },
  {
   "cell_type": "markdown",
   "id": "fc1b43ed",
   "metadata": {},
   "source": [
    "<a id='bestmodel'></a>\n",
    "<h3><b>Best Model</b></h3>\n",
    "<li><a href='#model'>Modeling Top</a></li>"
   ]
  },
  {
   "cell_type": "code",
   "execution_count": 15,
   "id": "c9fe51ac",
   "metadata": {},
   "outputs": [
    {
     "data": {
      "text/html": [
       "<div>\n",
       "<style scoped>\n",
       "    .dataframe tbody tr th:only-of-type {\n",
       "        vertical-align: middle;\n",
       "    }\n",
       "\n",
       "    .dataframe tbody tr th {\n",
       "        vertical-align: top;\n",
       "    }\n",
       "\n",
       "    .dataframe thead th {\n",
       "        text-align: right;\n",
       "    }\n",
       "</style>\n",
       "<table border=\"1\" class=\"dataframe\">\n",
       "  <thead>\n",
       "    <tr style=\"text-align: right;\">\n",
       "      <th></th>\n",
       "      <th>type</th>\n",
       "      <th>test_accuracy</th>\n",
       "    </tr>\n",
       "  </thead>\n",
       "  <tbody>\n",
       "    <tr>\n",
       "      <th>0</th>\n",
       "      <td>baseline</td>\n",
       "      <td>0.44</td>\n",
       "    </tr>\n",
       "    <tr>\n",
       "      <th>1</th>\n",
       "      <td>Random Forest Classifier4</td>\n",
       "      <td>0.89</td>\n",
       "    </tr>\n",
       "  </tbody>\n",
       "</table>\n",
       "</div>"
      ],
      "text/plain": [
       "                        type  test_accuracy\n",
       "0                   baseline           0.44\n",
       "1  Random Forest Classifier4           0.89"
      ]
     },
     "execution_count": 15,
     "metadata": {},
     "output_type": "execute_result"
    }
   ],
   "source": [
    "# From the 'final.py' file...\n",
    "# Get the scores of the baseline and the best model\n",
    "f.best_model()"
   ]
  },
  {
   "cell_type": "markdown",
   "id": "03bb7a65",
   "metadata": {},
   "source": [
    "<div style='background-color: orange'>\n",
    "<a id='conclusion'></a>\n",
    "    <b><u><i><h1 style='text-align: center'>\n",
    "        Conclusion\n",
    "    </h1></i></u></b>\n",
    "<li><a href='#TableOfContents'>Table of Contents</a></li>\n",
    "<li><a href='#conclusionsummary'>Summary</a></li>\n",
    "<li><a href='#rec'>Recommendations</a></li>\n",
    "<li><a href='#nextsteps'>Next-Steps</a></li>"
   ]
  },
  {
   "cell_type": "markdown",
   "id": "ad8259d8",
   "metadata": {},
   "source": [
    "<a id='conclusionsummary'></a>\n",
    "<h3><b>Summary</b></h3>\n",
    "<li><a href='#conclusion'>Conclusion Top</a></li>"
   ]
  },
  {
   "cell_type": "markdown",
   "id": "5d1f5ea3",
   "metadata": {},
   "source": [
    "Through exploration and clustering, no one feature directly impacts the wine quality.  Rather, it's the wine's balance of all the features combined that better dictates the quality."
   ]
  },
  {
   "cell_type": "markdown",
   "id": "d98a7b21",
   "metadata": {},
   "source": [
    "---"
   ]
  },
  {
   "cell_type": "markdown",
   "id": "b04314bc",
   "metadata": {},
   "source": [
    "<a id='rec'></a>\n",
    "<h3><b>Recommendations</b></h3>\n",
    "<li><a href='#conclusion'>Conclusion Top</a></li>"
   ]
  },
  {
   "cell_type": "markdown",
   "id": "4ae21204",
   "metadata": {},
   "source": [
    "Better understand how to literally define the 'balance' of a wine's content in order to better predict a wine's quality."
   ]
  },
  {
   "cell_type": "markdown",
   "id": "ae99078c",
   "metadata": {},
   "source": [
    "---"
   ]
  },
  {
   "cell_type": "markdown",
   "id": "7f93b4d0",
   "metadata": {},
   "source": [
    "<a id='nextsteps'></a>\n",
    "<h3><b>Next-Steps</b></h3>\n",
    "<li><a href='#conclusion'>Conclusion Top</a></li>"
   ]
  },
  {
   "cell_type": "markdown",
   "id": "fc095ac6",
   "metadata": {},
   "source": [
    "Conduct further exploration, feature engineering, and clustering methods in order to better define 'balance' for the machine to understand so that the machine will have a more accurate predictor of higher quality wines."
   ]
  },
  {
   "cell_type": "code",
   "execution_count": null,
   "id": "d48f0ba7",
   "metadata": {},
   "outputs": [],
   "source": []
  }
 ],
 "metadata": {
  "kernelspec": {
   "display_name": "Python 3 (ipykernel)",
   "language": "python",
   "name": "python3"
  },
  "language_info": {
   "codemirror_mode": {
    "name": "ipython",
    "version": 3
   },
   "file_extension": ".py",
   "mimetype": "text/x-python",
   "name": "python",
   "nbconvert_exporter": "python",
   "pygments_lexer": "ipython3",
   "version": "3.9.13"
  }
 },
 "nbformat": 4,
 "nbformat_minor": 5
}
